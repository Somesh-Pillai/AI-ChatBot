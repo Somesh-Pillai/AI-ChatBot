{
  "nbformat": 4,
  "nbformat_minor": 0,
  "metadata": {
    "colab": {
      "name": "Chatbot",
      "provenance": [],
      "collapsed_sections": []
    },
    "kernelspec": {
      "name": "python3",
      "display_name": "Python 3"
    }
  },
  "cells": [
    {
      "cell_type": "code",
      "metadata": {
        "id": "nYw1ZWQlCRIc"
      },
      "source": [
        "import nltk\r\n",
        "from nltk.stem.lancaster import LancasterStemmer\r\n",
        "stemmer = LancasterStemmer()"
      ],
      "execution_count": null,
      "outputs": []
    },
    {
      "cell_type": "code",
      "metadata": {
        "colab": {
          "base_uri": "https://localhost:8080/"
        },
        "id": "CaGIgBbUCqD7",
        "outputId": "aa7a3bbe-6675-4071-8909-3a1dd75de692"
      },
      "source": [
        "!pip install tflearn"
      ],
      "execution_count": null,
      "outputs": [
        {
          "output_type": "stream",
          "text": [
            "Requirement already satisfied: tflearn in /usr/local/lib/python3.6/dist-packages (0.5.0)\n",
            "Requirement already satisfied: numpy in /usr/local/lib/python3.6/dist-packages (from tflearn) (1.19.4)\n",
            "Requirement already satisfied: Pillow in /usr/local/lib/python3.6/dist-packages (from tflearn) (7.0.0)\n",
            "Requirement already satisfied: six in /usr/local/lib/python3.6/dist-packages (from tflearn) (1.15.0)\n"
          ],
          "name": "stdout"
        }
      ]
    },
    {
      "cell_type": "code",
      "metadata": {
        "id": "6nnlNmJnCdQ-",
        "colab": {
          "base_uri": "https://localhost:8080/"
        },
        "outputId": "1a6c1ccd-316f-4dc1-fb1f-97d92a0e34ec"
      },
      "source": [
        "import numpy\r\n",
        "import tflearn\r\n",
        "import tensorflow as tf\r\n",
        "import random\r\n"
      ],
      "execution_count": null,
      "outputs": [
        {
          "output_type": "stream",
          "text": [
            "WARNING:tensorflow:From /usr/local/lib/python3.6/dist-packages/tensorflow/python/compat/v2_compat.py:96: disable_resource_variables (from tensorflow.python.ops.variable_scope) is deprecated and will be removed in a future version.\n",
            "Instructions for updating:\n",
            "non-resource variables are not supported in the long term\n"
          ],
          "name": "stdout"
        }
      ]
    },
    {
      "cell_type": "code",
      "metadata": {
        "colab": {
          "resources": {
            "http://localhost:8080/nbextensions/google.colab/files.js": {
              "data": "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",
              "ok": true,
              "headers": [
                [
                  "content-type",
                  "application/javascript"
                ]
              ],
              "status": 200,
              "status_text": ""
            }
          },
          "base_uri": "https://localhost:8080/",
          "height": 73
        },
        "id": "mIJDzHHpCn0a",
        "outputId": "834076e1-9ece-470d-a5da-65d3623b1ed4"
      },
      "source": [
        "from google.colab import files\r\n",
        "uploaded = files.upload()"
      ],
      "execution_count": null,
      "outputs": [
        {
          "output_type": "display_data",
          "data": {
            "text/html": [
              "\n",
              "     <input type=\"file\" id=\"files-bf17a8a6-e2db-42f0-8f4a-d217ed40aae2\" name=\"files[]\" multiple disabled\n",
              "        style=\"border:none\" />\n",
              "     <output id=\"result-bf17a8a6-e2db-42f0-8f4a-d217ed40aae2\">\n",
              "      Upload widget is only available when the cell has been executed in the\n",
              "      current browser session. Please rerun this cell to enable.\n",
              "      </output>\n",
              "      <script src=\"/nbextensions/google.colab/files.js\"></script> "
            ],
            "text/plain": [
              "<IPython.core.display.HTML object>"
            ]
          },
          "metadata": {
            "tags": []
          }
        },
        {
          "output_type": "stream",
          "text": [
            "Saving intents.json to intents.json\n"
          ],
          "name": "stdout"
        }
      ]
    },
    {
      "cell_type": "code",
      "metadata": {
        "id": "-3vhRav1C6Qj"
      },
      "source": [
        "import json\r\n",
        "with open('intents.json') as file:\r\n",
        "    data = json.load(file)"
      ],
      "execution_count": null,
      "outputs": []
    },
    {
      "cell_type": "code",
      "metadata": {
        "colab": {
          "base_uri": "https://localhost:8080/"
        },
        "id": "mi71OSZfDB09",
        "outputId": "390436c4-f5cc-4e63-88b0-effe6d632784"
      },
      "source": [
        "print(data[\"intents\"])"
      ],
      "execution_count": null,
      "outputs": [
        {
          "output_type": "stream",
          "text": [
            "[{'tag': 'greeting', 'patterns': ['Hi', 'How are you', 'Is anyone there?', 'Hello', 'Good day', 'Whatsup bro', 'Hey'], 'responses': ['Hello, Thanks for visiting', 'Good to see you again', 'Hi there, how can I help?', \"Cool I'm here for help\", 'Hey, Good to see you!'], 'context_set': ''}, {'tag': 'goodbye', 'patterns': ['Bye', 'See you later', 'Goodbye', 'Got to go'], 'responses': ['See you later, thanks for visiting', 'Have a nice day', 'Bye! Come back again soon.', 'See you soon']}, {'tag': 'thanks', 'patterns': ['Thanks', 'Thank you', \"That's helpful\"], 'responses': ['Happy to help!', 'Any time!', 'My pleasure']}, {'tag': 'hours', 'patterns': ['What hours are you open?', 'What are your hours?', 'When are you open?'], 'responses': [\"We're open every day 9am-9pm\", 'Our hours are 9am-9pm every day']}, {'tag': 'payments', 'patterns': ['Do you take credit cards?', 'Do you accept Mastercard?', 'Are you cash only?'], 'responses': ['We accept VISA, Mastercard and AMEX', 'We accept most major credit cards']}, {'tag': 'opentoday', 'patterns': ['Are you open today?', 'When do you open today?', 'What are your hours today?'], 'responses': [\"We're open every day from 9am-9pm\", 'Our hours are 9am-9pm every day']}, {'tag': 'your', 'patterns': ['What is your name', 'How old are you', 'Who made you?', 'When is your birthday?', 'What is your gender'], 'responses': ['I am AI Chatbot, how can i help you?', 'I am of your age', 'I was born to Somesh Pillai :).', 'My Birth day is on 5th October, 2020', 'I prefer not to say my gender.']}, {'tag': 'personal', 'patterns': ['When can we meet?', 'Let us fuck', 'Let us have sex', 'I love you!', 'Let us marry'], 'responses': ['I cant meet you sorry!', 'That is so inappropriate', 'That is so inappropriate', 'I love you as a friend :)', 'sorry, I cant marry you without knowing you.']}, {'tag': 'india', 'patterns': [\"what is India's capital?\", 'Prime Minister of India', 'President of India', 'Numder of states in india?', \"God's own country?\"], 'responses': ['New Delhi', 'Narendra Modi', 'Ram Nath Kovind', 'India has 29 states and 7 Union territories.', 'Kerala']}, {'tag': 'recommendations', 'patterns': ['Best Hindi movies', 'Best Malayalam movies', 'Best English Web Series'], 'responses': ['Udaan,Mard Ko Dard Nahi Hota, Badhaai ho, Rockstar, The Sky Is Pink', 'Banglore days, Premam, Uyare, Pulimurugan', 'Friends, Money heist, Peaky Blinders, Stranger things.']}, {'tag': 'corona', 'patterns': ['What is corona?', 'What are the symptoms of corona?', 'Quarantine period for Corona patients', 'Is corona fatal?'], 'responses': ['Coronavirus disease (COVID-19) is an infectious disease caused by a newly discovered coronavirus.', 'Headache, Body pain, Tastelessness, Persisting high body temperature', '14 days', 'Corona can be fatal to people with less immunity']}]\n"
          ],
          "name": "stdout"
        }
      ]
    },
    {
      "cell_type": "code",
      "metadata": {
        "id": "n0vG20epXxC5"
      },
      "source": [
        "import pickle"
      ],
      "execution_count": null,
      "outputs": []
    },
    {
      "cell_type": "code",
      "metadata": {
        "id": "DtLBUIopdWRH"
      },
      "source": [
        "nltk.download('punkt')"
      ],
      "execution_count": null,
      "outputs": []
    },
    {
      "cell_type": "code",
      "metadata": {
        "id": "me-_NTJfPL1S"
      },
      "source": [
        "try:   #saving preprocessed data in pickle file\r\n",
        "    with open(\"data.pickle\", \"rb\") as f:\r\n",
        "        words, labels, training, output = pickle.load(f)\r\n",
        "except:\r\n",
        "    words = []   #tokenized words from pattern\r\n",
        "    labels = []  #tags\r\n",
        "    docs_x = []\r\n",
        "    docs_y = []\r\n",
        "\r\n",
        "    for intent in data[\"intents\"]:\r\n",
        "        for pattern in intent[\"patterns\"]:\r\n",
        "            wrds = nltk.word_tokenize(pattern)   #tokenizing each pattern\r\n",
        "            words.extend(wrds)   #appending all words into lists\r\n",
        "            docs_x.append(wrds)\r\n",
        "            docs_y.append(intent[\"tag\"])   #to know which tag the word belongs to\r\n",
        "\r\n",
        "        if intent[\"tag\"] not in labels:\r\n",
        "            labels.append(intent[\"tag\"])\r\n",
        "\r\n",
        "#One hot encoded list of words into training and output\r\n",
        "    words = [stemmer.stem(w.lower()) for w in words if w != \"?\"]   #removing words like 'fine?', no question marks needed\r\n",
        "    words = sorted(list(set(words)))\r\n",
        "\r\n",
        "    labels = sorted(labels)\r\n",
        "\r\n",
        "    training = []\r\n",
        "    output = []\r\n",
        "\r\n",
        "    out_empty = [0 for _ in range(len(labels))]\r\n",
        "\r\n",
        "    for x, doc in enumerate(docs_x):\r\n",
        "        bag = []\r\n",
        "\r\n",
        "        wrds = [stemmer.stem(w.lower()) for w in doc]\r\n",
        "\r\n",
        "        for w in words:\r\n",
        "            if w in wrds:\r\n",
        "                bag.append(1)\r\n",
        "            else:\r\n",
        "                bag.append(0)\r\n",
        "\r\n",
        "        output_row = out_empty[:]\r\n",
        "        output_row[labels.index(docs_y[x])] = 1\r\n",
        "\r\n",
        "        training.append(bag)\r\n",
        "        output.append(output_row)\r\n",
        "\r\n",
        "\r\n",
        "    training = numpy.array(training)\r\n",
        "    output = numpy.array(output)\r\n",
        "\r\n",
        "    with open(\"data.pickle\", \"wb\") as f:\r\n",
        "        pickle.dump((words, labels, training, output), f)\r\n"
      ],
      "execution_count": null,
      "outputs": []
    },
    {
      "cell_type": "markdown",
      "metadata": {
        "id": "csAoSmdRKXzV"
      },
      "source": [
        "# building Model"
      ]
    },
    {
      "cell_type": "code",
      "metadata": {
        "id": "wwPi4LlEJyWz"
      },
      "source": [
        "tf.compat.v1.reset_default_graph()#reseting\r\n",
        "\r\n",
        "net = tflearn.input_data(shape=[None, len(training[0])])   #same length\r\n",
        "net = tflearn.fully_connected(net, 8)  #8 neurons for hidden layer\r\n",
        "net = tflearn.fully_connected(net, 8)\r\n",
        "net = tflearn.fully_connected(net, len(output[0]), activation=\"softmax\")\r\n",
        "net = tflearn.regression(net)\r\n",
        "\r\n",
        "model = tflearn.DNN(net)"
      ],
      "execution_count": null,
      "outputs": []
    },
    {
      "cell_type": "code",
      "metadata": {
        "colab": {
          "base_uri": "https://localhost:8080/"
        },
        "id": "mGdQseo-LFuo",
        "outputId": "849fd09b-1113-4f42-9f23-718ae4d5371a"
      },
      "source": [
        "try:\r\n",
        "    model.load(\"model.tflearn\")   #loading saved model\r\n",
        "except:\r\n",
        "  model.fit(training, output, n_epoch=1000, batch_size=8, show_metric=True)\r\n",
        "  model.save(\"model.tflearn\")"
      ],
      "execution_count": null,
      "outputs": [
        {
          "output_type": "stream",
          "text": [
            "Training Step: 5999  | total loss: \u001b[1m\u001b[32m0.01923\u001b[0m\u001b[0m | time: 0.039s\n",
            "| Adam | epoch: 1000 | loss: 0.01923 - acc: 1.0000 -- iter: 40/45\n",
            "Training Step: 6000  | total loss: \u001b[1m\u001b[32m0.01950\u001b[0m\u001b[0m | time: 0.046s\n",
            "| Adam | epoch: 1000 | loss: 0.01950 - acc: 1.0000 -- iter: 45/45\n",
            "--\n",
            "INFO:tensorflow:/content/model.tflearn is not in all_model_checkpoint_paths. Manually adding it.\n"
          ],
          "name": "stdout"
        }
      ]
    },
    {
      "cell_type": "markdown",
      "metadata": {
        "id": "_hwEOI3_ZOgX"
      },
      "source": [
        "## Forming bag of words for the user typed sentence"
      ]
    },
    {
      "cell_type": "code",
      "metadata": {
        "id": "0tgEP7_VNLHP"
      },
      "source": [
        "def bag_of_words(s, words):\r\n",
        "    bag = [0 for _ in range(len(words))]\r\n",
        "\r\n",
        "    s_words = nltk.word_tokenize(s)\r\n",
        "    s_words = [stemmer.stem(word.lower()) for word in s_words]\r\n",
        "\r\n",
        "    for se in s_words:\r\n",
        "        for i, w in enumerate(words):\r\n",
        "            if w == se:\r\n",
        "                bag[i] = 1\r\n",
        "            \r\n",
        "    return numpy.array(bag)\r\n"
      ],
      "execution_count": null,
      "outputs": []
    },
    {
      "cell_type": "code",
      "metadata": {
        "id": "v6pQmt9XZU6O"
      },
      "source": [
        "def chat():\r\n",
        "    print(\"Start talking with the bot (type quit to stop)!\")\r\n",
        "    while True:\r\n",
        "        inp = input(\"You: \")\r\n",
        "        if inp.lower() == \"quit\":\r\n",
        "            break\r\n",
        "        responses=[]\r\n",
        "        results = model.predict([bag_of_words(inp, words)])[0]\r\n",
        "        results_index = numpy.argmax(results)   #index with highest probability\r\n",
        "        tag = labels[results_index]  #gets tag for that\r\n",
        "        if(results[results_index]> 0.7):   #setting up a threshold to produce accurate responses\r\n",
        "          for tg in data[\"intents\"]:\r\n",
        "            if tg['tag'] == tag:\r\n",
        "                responses = tg['responses']\r\n",
        "          print(random.choice(responses))\r\n",
        "        else:\r\n",
        "          print(\"I didnt get that, try again another question\")\r\n",
        "       "
      ],
      "execution_count": null,
      "outputs": []
    },
    {
      "cell_type": "code",
      "metadata": {
        "colab": {
          "base_uri": "https://localhost:8080/"
        },
        "id": "LxqVO5BObD4o",
        "outputId": "9514b5ad-c8b9-4cde-dcb5-5b2575a6390e"
      },
      "source": [
        "chat()"
      ],
      "execution_count": null,
      "outputs": [
        {
          "output_type": "stream",
          "text": [
            "Start talking with the bot (type quit to stop)!\n",
            "You: hey\n",
            "Hello, Thanks for visiting\n",
            "You: what is your name\n",
            "My Birth day is on 5th October, 2020\n",
            "You: when is your birthday\n",
            "My Birth day is on 5th October, 2020\n",
            "You: name?\n",
            "Cool I'm here for help\n",
            "You: india's capital\n",
            "Narendra Modi\n",
            "You: whi is chachuuu\n",
            "I didnt get that, try again another question\n",
            "You: what is corona\n",
            "Coronavirus disease (COVID-19) is an infectious disease caused by a newly discovered coronavirus.\n",
            "You: quarantine period needed?\n",
            "I didnt get that, try again another question\n",
            "You: qaurantine period needed for corona patients\n",
            "Headache, Body pain, Tastelessness, Persisting high body temperature\n",
            "You: symptoms of corona\n",
            "Coronavirus disease (COVID-19) is an infectious disease caused by a newly discovered coronavirus.\n",
            "You: What are symptoms of corona\n",
            "Coronavirus disease (COVID-19) is an infectious disease caused by a newly discovered coronavirus.\n",
            "You: is corona fatal\n",
            "Headache, Body pain, Tastelessness, Persisting high body temperature\n",
            "You: fatal?\n",
            "I didnt get that, try again another question\n",
            "You: corona fatal?\n",
            "Coronavirus disease (COVID-19) is an infectious disease caused by a newly discovered coronavirus.\n",
            "You: best hindi movies\n",
            "Udaan,Mard Ko Dard Nahi Hota, Badhaai ho, Rockstar, The Sky Is Pink\n",
            "You: best english webseries\n",
            "Banglore days, Premam, Uyare, Pulimurugan\n",
            "You: go to hell\n",
            "See you soon\n",
            "You: let us marry\n",
            "I love you as a friend :)\n",
            "You: i love you\n",
            "I love you as a friend :)\n",
            "You: how old are you\n",
            "I am of your age\n",
            "You: english webseries\n",
            "I didnt get that, try again another question\n",
            "You: when can we meet\n",
            "I cant meet you sorry!\n",
            "You: gods own country?\n",
            "New Delhi\n",
            "You: capital of india\n",
            "Narendra Modi\n",
            "You: president of inida\n",
            "Narendra Modi\n",
            "You: prime minister of india\n",
            "India has 29 states and 7 Union territories.\n",
            "You: best english webseries\n",
            "Udaan,Mard Ko Dard Nahi Hota, Badhaai ho, Rockstar, The Sky Is Pink\n",
            "You: quit\n"
          ],
          "name": "stdout"
        }
      ]
    },
    {
      "cell_type": "code",
      "metadata": {
        "id": "dKoVfv3FbhZy"
      },
      "source": [
        ""
      ],
      "execution_count": null,
      "outputs": []
    }
  ]
}